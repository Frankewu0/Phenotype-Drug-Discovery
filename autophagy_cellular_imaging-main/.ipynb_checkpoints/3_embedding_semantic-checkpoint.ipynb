{
 "cells": [
  {
   "cell_type": "markdown",
   "id": "55de2ae1",
   "metadata": {},
   "source": [
    "# Load PEFT Model"
   ]
  },
  {
   "cell_type": "code",
   "execution_count": 1,
   "id": "a672af74",
   "metadata": {},
   "outputs": [],
   "source": [
    "import torch\n",
    "import torch.nn as nn\n",
    "from transformers import AutoModel,AutoImageProcessor\n",
    "from peft import PeftModel\n",
    "\n",
    "class AutoModelForImageEmbedding(nn.Module):\n",
    "    def __init__(self, model_name, normalize=True):\n",
    "        super(AutoModelForImageEmbedding, self).__init__()\n",
    "\n",
    "        # Load a pre-trained image classification model (e.g., a Vision Transformer or similar)\n",
    "        self.model = AutoModel.from_pretrained(model_name)\n",
    "        self.normalize = normalize\n",
    "\n",
    "    def forward(self, images):\n",
    "        # Forward pass through the model\n",
    "        model_output = self.model(images)\n",
    "        pooler_output = model_output['pooler_output']\n",
    "        \n",
    "        if self.normalize:\n",
    "            pooler_output = torch.nn.functional.normalize(pooler_output, p=2, dim=1)\n",
    "\n",
    "        return pooler_output\n",
    "\n",
    "    def __getattr__(self, name: str):\n",
    "        \"\"\"Forward missing attributes to the wrapped module.\"\"\"\n",
    "        try:\n",
    "            return super().__getattr__(name)  # defer to nn.Module's logic\n",
    "        except AttributeError:\n",
    "            return getattr(self.model, name)\n",
    "        "
   ]
  },
  {
   "cell_type": "code",
   "execution_count": 2,
   "id": "a24d1fbc",
   "metadata": {},
   "outputs": [],
   "source": [
    "pretrain_model_name = 'google/vit-large-patch16-224'\n",
    "model_name = 'model_tif_3/google/vit-large-patch16-224'"
   ]
  },
  {
   "cell_type": "code",
   "execution_count": 3,
   "id": "f9dc48c9",
   "metadata": {},
   "outputs": [
    {
     "name": "stderr",
     "output_type": "stream",
     "text": [
      "Some weights of ViTModel were not initialized from the model checkpoint at google/vit-large-patch16-224 and are newly initialized: ['vit.pooler.dense.bias', 'vit.pooler.dense.weight']\n",
      "You should probably TRAIN this model on a down-stream task to be able to use it for predictions and inference.\n"
     ]
    },
    {
     "name": "stdout",
     "output_type": "stream",
     "text": [
      "PeftModel(\n",
      "  (base_model): LoraModel(\n",
      "    (model): AutoModelForImageEmbedding(\n",
      "      (model): ViTModel(\n",
      "        (embeddings): ViTEmbeddings(\n",
      "          (patch_embeddings): ViTPatchEmbeddings(\n",
      "            (projection): Conv2d(3, 1024, kernel_size=(16, 16), stride=(16, 16))\n",
      "          )\n",
      "          (dropout): Dropout(p=0.0, inplace=False)\n",
      "        )\n",
      "        (encoder): ViTEncoder(\n",
      "          (layer): ModuleList(\n",
      "            (0-23): 24 x ViTLayer(\n",
      "              (attention): ViTSdpaAttention(\n",
      "                (attention): ViTSdpaSelfAttention(\n",
      "                  (query): lora.Linear(\n",
      "                    (base_layer): Linear(in_features=1024, out_features=1024, bias=True)\n",
      "                    (lora_dropout): ModuleDict(\n",
      "                      (default): Dropout(p=0.1, inplace=False)\n",
      "                    )\n",
      "                    (lora_A): ModuleDict(\n",
      "                      (default): Linear(in_features=1024, out_features=16, bias=False)\n",
      "                    )\n",
      "                    (lora_B): ModuleDict(\n",
      "                      (default): Linear(in_features=16, out_features=1024, bias=False)\n",
      "                    )\n",
      "                    (lora_embedding_A): ParameterDict()\n",
      "                    (lora_embedding_B): ParameterDict()\n",
      "                    (lora_magnitude_vector): ModuleDict()\n",
      "                  )\n",
      "                  (key): Linear(in_features=1024, out_features=1024, bias=True)\n",
      "                  (value): lora.Linear(\n",
      "                    (base_layer): Linear(in_features=1024, out_features=1024, bias=True)\n",
      "                    (lora_dropout): ModuleDict(\n",
      "                      (default): Dropout(p=0.1, inplace=False)\n",
      "                    )\n",
      "                    (lora_A): ModuleDict(\n",
      "                      (default): Linear(in_features=1024, out_features=16, bias=False)\n",
      "                    )\n",
      "                    (lora_B): ModuleDict(\n",
      "                      (default): Linear(in_features=16, out_features=1024, bias=False)\n",
      "                    )\n",
      "                    (lora_embedding_A): ParameterDict()\n",
      "                    (lora_embedding_B): ParameterDict()\n",
      "                    (lora_magnitude_vector): ModuleDict()\n",
      "                  )\n",
      "                  (dropout): Dropout(p=0.0, inplace=False)\n",
      "                )\n",
      "                (output): ViTSelfOutput(\n",
      "                  (dense): Linear(in_features=1024, out_features=1024, bias=True)\n",
      "                  (dropout): Dropout(p=0.0, inplace=False)\n",
      "                )\n",
      "              )\n",
      "              (intermediate): ViTIntermediate(\n",
      "                (dense): Linear(in_features=1024, out_features=4096, bias=True)\n",
      "                (intermediate_act_fn): GELUActivation()\n",
      "              )\n",
      "              (output): ViTOutput(\n",
      "                (dense): Linear(in_features=4096, out_features=1024, bias=True)\n",
      "                (dropout): Dropout(p=0.0, inplace=False)\n",
      "              )\n",
      "              (layernorm_before): LayerNorm((1024,), eps=1e-12, elementwise_affine=True)\n",
      "              (layernorm_after): LayerNorm((1024,), eps=1e-12, elementwise_affine=True)\n",
      "            )\n",
      "          )\n",
      "        )\n",
      "        (layernorm): LayerNorm((1024,), eps=1e-12, elementwise_affine=True)\n",
      "        (pooler): ViTPooler(\n",
      "          (dense): Linear(in_features=1024, out_features=1024, bias=True)\n",
      "          (activation): Tanh()\n",
      "        )\n",
      "      )\n",
      "    )\n",
      "  )\n",
      ")\n"
     ]
    }
   ],
   "source": [
    "# base model\n",
    "model = AutoModelForImageEmbedding(pretrain_model_name)\n",
    "\n",
    "# peft config and wrapping\n",
    "model = PeftModel.from_pretrained(model, model_name)\n",
    "\n",
    "print(model)"
   ]
  },
  {
   "cell_type": "markdown",
   "id": "59c43b4e",
   "metadata": {},
   "source": [
    "# Image Processor "
   ]
  },
  {
   "cell_type": "code",
   "execution_count": 4,
   "id": "16dd17c9",
   "metadata": {},
   "outputs": [],
   "source": [
    "image_processor = AutoImageProcessor.from_pretrained(model_name)"
   ]
  },
  {
   "cell_type": "code",
   "execution_count": 5,
   "id": "2c4e6018",
   "metadata": {},
   "outputs": [],
   "source": [
    "from torchvision.transforms import (\n",
    "    CenterCrop,\n",
    "    Compose,\n",
    "    Normalize,\n",
    "    RandomHorizontalFlip,\n",
    "    RandomResizedCrop,\n",
    "    Resize,\n",
    "    ToTensor,\n",
    ")\n",
    "\n",
    "normalize = Normalize(mean=image_processor.image_mean, std=image_processor.image_std)\n",
    "\n",
    "val_transforms = Compose(\n",
    "    [\n",
    "        Resize(image_processor.size[\"height\"]),\n",
    "        CenterCrop(image_processor.size[\"height\"]),\n",
    "        ToTensor(),\n",
    "        normalize,\n",
    "    ]\n",
    ")\n",
    "\n",
    "\n",
    "\n",
    "def preprocess_val(example_batch):\n",
    "    example_batch[\"pixel_values\"] = [val_transforms(image.convert(\"RGB\")) for image in example_batch[\"image\"]]\n",
    "    return example_batch"
   ]
  },
  {
   "cell_type": "markdown",
   "id": "464781b6",
   "metadata": {},
   "source": [
    "# Load Experimental Images and Embedding"
   ]
  },
  {
   "cell_type": "code",
   "execution_count": 6,
   "id": "0e4274d1",
   "metadata": {},
   "outputs": [],
   "source": [
    "import os\n",
    "import pandas as pd"
   ]
  },
  {
   "cell_type": "code",
   "execution_count": 7,
   "id": "f11fe339",
   "metadata": {},
   "outputs": [],
   "source": [
    "experimental_data_folder = 'data/experimental_data/1223/images'\n",
    "file_path_list = [os.path.join(experimental_data_folder,x,f'{x}_1.tif') for x in os.listdir(experimental_data_folder) if 'D' not in x]\n",
    "file_path_list2 = [os.path.join(experimental_data_folder,x,f'{x}_2.tif') for x in os.listdir(experimental_data_folder) if 'D' not in x]\n",
    "file_path_list3 = [os.path.join(experimental_data_folder,x,f'{x}_Merge.tif') for x in os.listdir(experimental_data_folder) if 'D' not in x]"
   ]
  },
  {
   "cell_type": "code",
   "execution_count": 8,
   "id": "f6d3b9a6",
   "metadata": {},
   "outputs": [
    {
     "data": {
      "application/vnd.jupyter.widget-view+json": {
       "model_id": "d8318a6c4d044aefac98b18d92dc9fd4",
       "version_major": 2,
       "version_minor": 0
      },
      "text/plain": [
       "  0%|          | 0/134 [00:00<?, ?it/s]"
      ]
     },
     "metadata": {},
     "output_type": "display_data"
    }
   ],
   "source": [
    "from PIL import Image\n",
    "from tqdm.notebook import tqdm\n",
    "Embedding_dict = {}\n",
    "\n",
    "for v in tqdm(file_path_list):\n",
    "\n",
    "    image = Image.open(v)\n",
    "    encoding = val_transforms(image.convert(\"RGB\")) \n",
    "\n",
    "    with torch.no_grad():\n",
    "        outputs = model(encoding.unsqueeze(0))\n",
    "    \n",
    "    Embedding_dict[v.split('/')[-1].split('_')[0]] = outputs.numpy().flatten().tolist()\n",
    "    "
   ]
  },
  {
   "cell_type": "code",
   "execution_count": 9,
   "id": "87592224",
   "metadata": {},
   "outputs": [],
   "source": [
    "import json\n",
    "\n",
    "with open('data/experiment_embedding_data_tif.json', 'w') as json_file:\n",
    "    json.dump(Embedding_dict, json_file)"
   ]
  },
  {
   "cell_type": "code",
   "execution_count": 10,
   "id": "e9e2dd2c",
   "metadata": {},
   "outputs": [
    {
     "data": {
      "application/vnd.jupyter.widget-view+json": {
       "model_id": "65a45ba923674f7cbd5a5f17f1f5d4c1",
       "version_major": 2,
       "version_minor": 0
      },
      "text/plain": [
       "  0%|          | 0/134 [00:00<?, ?it/s]"
      ]
     },
     "metadata": {},
     "output_type": "display_data"
    }
   ],
   "source": [
    "from PIL import Image\n",
    "from tqdm.notebook import tqdm\n",
    "Embedding_dict = {}\n",
    "\n",
    "for v in tqdm(file_path_list2):\n",
    "\n",
    "    image = Image.open(v)\n",
    "    encoding = val_transforms(image.convert(\"RGB\")) \n",
    "\n",
    "    with torch.no_grad():\n",
    "        outputs = model(encoding.unsqueeze(0))\n",
    "    \n",
    "    Embedding_dict[v.split('/')[-1].split('_')[0]] = outputs.numpy().flatten().tolist()\n",
    "    "
   ]
  },
  {
   "cell_type": "code",
   "execution_count": 11,
   "id": "22168a0d",
   "metadata": {},
   "outputs": [],
   "source": [
    "import json\n",
    "\n",
    "with open('data/experiment_embedding_data_tif2.json', 'w') as json_file:\n",
    "    json.dump(Embedding_dict, json_file)"
   ]
  },
  {
   "cell_type": "code",
   "execution_count": 12,
   "id": "3a77a4d5",
   "metadata": {},
   "outputs": [
    {
     "data": {
      "application/vnd.jupyter.widget-view+json": {
       "model_id": "6d4c857109e8402396169c6f4ad02f6e",
       "version_major": 2,
       "version_minor": 0
      },
      "text/plain": [
       "  0%|          | 0/134 [00:00<?, ?it/s]"
      ]
     },
     "metadata": {},
     "output_type": "display_data"
    }
   ],
   "source": [
    "from PIL import Image\n",
    "from tqdm.notebook import tqdm\n",
    "Embedding_dict = {}\n",
    "\n",
    "for v in tqdm(file_path_list3):\n",
    "\n",
    "    image = Image.open(v)\n",
    "    encoding = val_transforms(image.convert(\"RGB\")) \n",
    "\n",
    "    with torch.no_grad():\n",
    "        outputs = model(encoding.unsqueeze(0))\n",
    "    \n",
    "    Embedding_dict[v.split('/')[-1].split('_')[0]] = outputs.numpy().flatten().tolist()\n",
    "    "
   ]
  },
  {
   "cell_type": "code",
   "execution_count": 13,
   "id": "a9cc29bb",
   "metadata": {},
   "outputs": [],
   "source": [
    "import json\n",
    "\n",
    "with open('data/experiment_embedding_data_tif3.json', 'w') as json_file:\n",
    "    json.dump(Embedding_dict, json_file)"
   ]
  },
  {
   "cell_type": "code",
   "execution_count": null,
   "id": "4accd961",
   "metadata": {},
   "outputs": [],
   "source": []
  }
 ],
 "metadata": {
  "kernelspec": {
   "display_name": "cell_image",
   "language": "python",
   "name": "python3"
  },
  "language_info": {
   "codemirror_mode": {
    "name": "ipython",
    "version": 3
   },
   "file_extension": ".py",
   "mimetype": "text/x-python",
   "name": "python",
   "nbconvert_exporter": "python",
   "pygments_lexer": "ipython3",
   "version": "3.12.7"
  }
 },
 "nbformat": 4,
 "nbformat_minor": 5
}
